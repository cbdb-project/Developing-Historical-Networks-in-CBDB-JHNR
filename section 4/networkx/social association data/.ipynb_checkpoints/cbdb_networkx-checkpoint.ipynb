{
 "cells": [
  {
   "cell_type": "code",
   "execution_count": 2,
   "metadata": {},
   "outputs": [],
   "source": [
    "from networkx import nx"
   ]
  },
  {
   "cell_type": "code",
   "execution_count": 3,
   "metadata": {},
   "outputs": [],
   "source": [
    "g = nx.read_weighted_edgelist('cbdb_data.txt')"
   ]
  },
  {
   "cell_type": "code",
   "execution_count": 4,
   "metadata": {},
   "outputs": [
    {
     "name": "stdout",
     "output_type": "stream",
     "text": [
      "965\n",
      "316\n",
      "154\n",
      "54\n",
      "29\n",
      "12\n"
     ]
    }
   ],
   "source": [
    "from networkx.algorithms.community import k_clique_communities\n",
    "test = list(k_clique_communities(g, 2))\n",
    "print(len(test))\n",
    "test = list(k_clique_communities(g, 3))\n",
    "print(len(test))\n",
    "test = list(k_clique_communities(g, 4))\n",
    "print(len(test))\n",
    "test = list(k_clique_communities(g, 5))\n",
    "print(len(test))\n",
    "test = list(k_clique_communities(g, 6))\n",
    "print(len(test))\n",
    "test = list(k_clique_communities(g, 7))\n",
    "print(len(test))"
   ]
  },
  {
   "cell_type": "code",
   "execution_count": 6,
   "metadata": {},
   "outputs": [
    {
     "name": "stdout",
     "output_type": "stream",
     "text": [
      "1\n",
      "129\n",
      "0\n",
      "0\n"
     ]
    }
   ],
   "source": [
    "from scipy.special import comb\n",
    "\n",
    "# g_nr = nx.gnm_random_graph(33433, 149611)\n",
    "g_nr = nx.erdos_renyi_graph(33433, 149611/comb(33433, 2))\n",
    "test = list(k_clique_communities(g_nr, 2))\n",
    "print(len(test))\n",
    "test = list(k_clique_communities(g_nr, 3))\n",
    "print(len(test))\n",
    "test = list(k_clique_communities(g_nr, 4))\n",
    "print(len(test))\n",
    "test = list(k_clique_communities(g_nr, 5))\n",
    "print(len(test))"
   ]
  },
  {
   "cell_type": "code",
   "execution_count": 10,
   "metadata": {},
   "outputs": [
    {
     "name": "stdout",
     "output_type": "stream",
     "text": [
      "1\n",
      "1\n"
     ]
    }
   ],
   "source": [
    "g_nr = nx.gnm_random_graph(5, 100)\n",
    "test = list(k_clique_communities(g_nr, 2))\n",
    "print(len(test))\n",
    "test = list(k_clique_communities(g_nr, 3))\n",
    "print(len(test))"
   ]
  },
  {
   "cell_type": "code",
   "execution_count": 8,
   "metadata": {},
   "outputs": [
    {
     "name": "stdout",
     "output_type": "stream",
     "text": [
      "119.47607235056972\n",
      "1.9166154663454274e-05\n"
     ]
    }
   ],
   "source": [
    "p = 0.0002677\n",
    "n = 33433\n",
    "# CBDB 3-clique\n",
    "print(comb(n, 3)*(p**3))\n",
    "# CBDB 4-clique\n",
    "print(comb(n, 4)*(p**6*(1-p)**-2))"
   ]
  },
  {
   "cell_type": "code",
   "execution_count": null,
   "metadata": {},
   "outputs": [],
   "source": []
  }
 ],
 "metadata": {
  "kernelspec": {
   "display_name": "Python 3",
   "language": "python",
   "name": "python3"
  },
  "language_info": {
   "codemirror_mode": {
    "name": "ipython",
    "version": 3
   },
   "file_extension": ".py",
   "mimetype": "text/x-python",
   "name": "python",
   "nbconvert_exporter": "python",
   "pygments_lexer": "ipython3",
   "version": "3.7.6"
  }
 },
 "nbformat": 4,
 "nbformat_minor": 4
}
