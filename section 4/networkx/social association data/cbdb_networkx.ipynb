{
 "cells": [
  {
   "cell_type": "code",
   "execution_count": 2,
   "metadata": {},
   "outputs": [],
   "source": [
    "from networkx import nx"
   ]
  },
  {
   "cell_type": "code",
   "execution_count": 3,
   "metadata": {},
   "outputs": [],
   "source": [
    "# import data\n",
    "\n",
    "g = nx.read_weighted_edgelist('cbdb_data.txt')"
   ]
  },
  {
   "cell_type": "code",
   "execution_count": 9,
   "metadata": {},
   "outputs": [
    {
     "name": "stdout",
     "output_type": "stream",
     "text": [
      "965\n",
      "316\n",
      "154\n",
      "54\n",
      "29\n",
      "12\n",
      "4\n",
      "2\n",
      "1\n"
     ]
    }
   ],
   "source": [
    "# k_clique communities in CBDB data\n",
    "\n",
    "from networkx.algorithms.community import k_clique_communities\n",
    "test = list(k_clique_communities(g, 2))\n",
    "print(len(test))\n",
    "test = list(k_clique_communities(g, 3))\n",
    "print(len(test))\n",
    "test = list(k_clique_communities(g, 4))\n",
    "print(len(test))\n",
    "test = list(k_clique_communities(g, 5))\n",
    "print(len(test))\n",
    "test = list(k_clique_communities(g, 6))\n",
    "print(len(test))\n",
    "test = list(k_clique_communities(g, 7))\n",
    "print(len(test))\n",
    "test = list(k_clique_communities(g, 8))\n",
    "print(len(test))\n",
    "test = list(k_clique_communities(g, 9))\n",
    "print(len(test))\n",
    "test = list(k_clique_communities(g, 10))\n",
    "print(len(test))"
   ]
  },
  {
   "cell_type": "code",
   "execution_count": 8,
   "metadata": {},
   "outputs": [
    {
     "name": "stdout",
     "output_type": "stream",
     "text": [
      "119.47607235056972\n",
      "1.9166154663454274e-05\n"
     ]
    }
   ],
   "source": [
    "# to compare CBDB data with an erdos renyi graph\n",
    "\n",
    "p = 0.0002677\n",
    "n = 33433\n",
    "# CBDB 3-clique\n",
    "print(comb(n, 3)*(p**3))\n",
    "# CBDB 4-clique\n",
    "print(comb(n, 4)*(p**6*(1-p)**-2))"
   ]
  },
  {
   "cell_type": "code",
   "execution_count": null,
   "metadata": {},
   "outputs": [],
   "source": []
  }
 ],
 "metadata": {
  "kernelspec": {
   "display_name": "Python 3",
   "language": "python",
   "name": "python3"
  },
  "language_info": {
   "codemirror_mode": {
    "name": "ipython",
    "version": 3
   },
   "file_extension": ".py",
   "mimetype": "text/x-python",
   "name": "python",
   "nbconvert_exporter": "python",
   "pygments_lexer": "ipython3",
   "version": "3.7.6"
  }
 },
 "nbformat": 4,
 "nbformat_minor": 4
}